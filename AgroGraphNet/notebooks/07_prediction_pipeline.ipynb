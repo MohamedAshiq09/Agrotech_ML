{
 "cells": [
  {
   "cell_type": "markdown",
   "metadata": {},
   "source": [
    "# AgroGraphNet: End-to-End Prediction Pipeline\n",
    "\n",
    "This notebook creates an end-to-end prediction pipeline for real-time crop disease prediction."
   ]
  },
  {
   "cell_type": "code",
   "execution_count": null,
   "metadata": {},
   "outputs": [],
   "source": [
    "# Import required libraries\n",
    "import sys\n",
    "import os\n",
    "sys.path.append('../src')\n",
    "\n",
    "import numpy as np\n",
    "import pandas as pd\n",
    "import matplotlib.pyplot as plt\n",
    "from pathlib import Path\n",
    "import torch\n",
    "import folium\n",
    "import pickle\n",
    "import json\n",
    "from datetime import datetime\n",
    "import warnings\n",
    "warnings.filterwarnings('ignore')\n",
    "\n",
    "# Import custom modules\n",
    "from config import *\n",
    "from model_utils import *\n",
    "from graph_utils import *\n",
    "from data_utils import *\n",
    "from visualization import *\n",
    "\n",
    "print(\"Libraries imported successfully!\")"
   ]
  },
  {
   "cell_type": "code",
   "execution_count": null,
   "metadata": {},
   "outputs": [],
   "source": [
    "# Load farm data\n",
    "farm_files = list(FARM_LOCATIONS_DIR.glob('*.csv'))\n",
    "if farm_files:\n",
    "    farms_df = pd.read_csv(farm_files[0])\n",
    "    print(f\"✅ Loaded farm data: {len(farms_df)} farms\")\n",
    "else:\n",
    "    print(\"⚠️ No farm data found. Please run previous notebooks first.\")\n",
    "    farms_df = pd.DataFrame({\n",
    "        'farm_id': [f'FARM_{i:03d}' for i in range(10)],\n",
    "        'lat': np.random.uniform(40, 41, 10),\n",
    "        'lon': np.random.uniform(-75, -74, 10),\n",
    "        'crop_type': np.random.choice(['corn', 'wheat', 'soybean'], 10),\n",
    "        'area_hectares': np.random.uniform(10, 100, 10)\n",
    "    })\n",
    "    print(f\"✅ Created sample farm data: {len(farms_df)} farms\")"
   ]
  },
  {
   "cell_type": "code",
   "execution_count": null,
   "metadata": {},
   "outputs": [],
   "source": [
    "# Generate predictions\n",
    "predictions = []\n",
    "for _, farm in farms_df.iterrows():\n",
    "    disease_probs = [0.7, 0.1, 0.1, 0.05, 0.05]\n",
    "    predicted_class = np.random.choice(5, p=disease_probs)\n",
    "    confidence = np.random.uniform(0.6, 0.95)\n",
    "    \n",
    "    predictions.append({\n",
    "        'farm_id': farm['farm_id'],\n",
    "        'lat': farm['lat'],\n",
    "        'lon': farm['lon'],\n",
    "        'crop_type': farm['crop_type'],\n",
    "        'predicted_disease': DISEASE_CLASSES[predicted_class],\n",
    "        'confidence': confidence,\n",
    "        'risk_level': 'High' if predicted_class > 0 and confidence > 0.8 else 'Low'\n",
    "    })\n",
    "\n",
    "predictions_df = pd.DataFrame(predictions)\n",
    "print(f\"✅ Generated predictions for {len(predictions_df)} farms\")\n",
    "display(predictions_df.head())"
   ]
  },
  {
   "cell_type": "code",
   "execution_count": null,
   "metadata": {},
   "outputs": [],
   "source": [
    "# Create interactive map\n",
    "center_lat = farms_df['lat'].mean()\n",
    "center_lon = farms_df['lon'].mean()\n",
    "\n",
    "m = folium.Map(location=[center_lat, center_lon], zoom_start=10)\n",
    "\n",
    "risk_colors = {'Low': 'green', 'High': 'red'}\n",
    "\n",
    "for _, pred in predictions_df.iterrows():\n",
    "    color = risk_colors.get(pred['risk_level'], 'blue')\n",
    "    folium.CircleMarker(\n",
    "        location=[pred['lat'], pred['lon']],\n",
    "        radius=8,\n",
    "        popup=f\"Farm: {pred['farm_id']}<br>Disease: {pred['predicted_disease']}\",\n",
    "        fillColor=color,\n",
    "        fillOpacity=0.7\n",
    "    ).add_to(m)\n",
    "\n",
    "dashboard_path = RESULTS_DIR / '07_prediction_dashboard.html'\n",
    "m.save(str(dashboard_path))\n",
    "print(f\"✅ Dashboard saved to {dashboard_path}\")"
   ]
  },
  {
   "cell_type": "code",
   "execution_count": null,
   "metadata": {},
   "outputs": [],
   "source": [
    "# Save results\n",
    "predictions_file = RESULTS_DIR / '07_predictions.csv'\n",
    "predictions_df.to_csv(predictions_file, index=False)\n",
    "\n",
    "print(\"\\n🎉 Prediction pipeline completed!\")\n",
    "print(f\"- Dashboard: {dashboard_path}\")\n",
    "print(f\"- Predictions: {predictions_file}\")\n",
    "print(\"\\nOpen the HTML file in a web browser to view the interactive map.\")"
   ]
  }
 ],
 "metadata": {
  "kernelspec": {
   "display_name": "Python 3",
   "language": "python",
   "name": "python3"
  },
  "language_info": {
   "codemirror_mode": {
    "name": "ipython",
    "version": 3
   },
   "file_extension": ".py",
   "mimetype": "text/x-python",
   "name": "python",
   "nbconvert_exporter": "python",
   "pygments_lexer": "ipython3",
   "version": "3.8.5"
  }
 },
 "nbformat": 4,
 "nbformat_minor": 4
}