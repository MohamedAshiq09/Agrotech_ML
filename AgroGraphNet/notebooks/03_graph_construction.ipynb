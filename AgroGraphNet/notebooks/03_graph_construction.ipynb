{
 "cells": [
  {
   "cell_type": "markdown",
   "metadata": {},
   "source": [
    "# AgroGraphNet: Graph Construction\n",
    "\n",
    "This notebook constructs farm network graphs based on spatial proximity, environmental similarity, and other relationships.\n",
    "\n",
    "## Objectives:\n",
    "1. Create spatial adjacency matrices based on farm locations\n",
    "2. Calculate environmental similarity between farms\n",
    "3. Build NetworkX graphs with node and edge features\n",
    "4. Convert to PyTorch Geometric format\n",
    "5. Create temporal graph sequences\n",
    "6. Analyze graph properties and connectivity"
   ]
  },
  {
   "cell_type": "code",
   "execution_count": null,
   "metadata": {},
   "outputs": [],
   "source": [
    "# Import required libraries\n",
    "import sys\n",
    "import os\n",
    "sys.path.append('../src')\n",
    "\n",
    "import numpy as np\n",
    "import pandas as pd\n",
    "import matplotlib.pyplot as plt\n",
    "import seaborn as sns\n",
    "import networkx as nx\n",
    "from pathlib import Path\n",
    "import torch\n",
    "from torch_geometric.data import Data\n",
    "import json\n",
    "import warnings\n",
    "warnings.filterwarnings('ignore')\n",
    "\n",
    "# Import custom modules\n",
    "from config import *\n",
